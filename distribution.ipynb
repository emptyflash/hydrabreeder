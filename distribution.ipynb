{
 "cells": [
  {
   "cell_type": "code",
   "execution_count": 1,
   "id": "222e4687",
   "metadata": {},
   "outputs": [],
   "source": [
    "import numpy as np\n",
    "import pandas as pd\n",
    "from fitter import Fitter, get_common_distributions, get_distributions"
   ]
  },
  {
   "cell_type": "code",
   "execution_count": 2,
   "id": "1b8a354a",
   "metadata": {},
   "outputs": [
    {
     "data": {
      "text/html": [
       "<div>\n",
       "<style scoped>\n",
       "    .dataframe tbody tr th:only-of-type {\n",
       "        vertical-align: middle;\n",
       "    }\n",
       "\n",
       "    .dataframe tbody tr th {\n",
       "        vertical-align: top;\n",
       "    }\n",
       "\n",
       "    .dataframe thead th {\n",
       "        text-align: right;\n",
       "    }\n",
       "</style>\n",
       "<table border=\"1\" class=\"dataframe\">\n",
       "  <thead>\n",
       "    <tr style=\"text-align: right;\">\n",
       "      <th></th>\n",
       "      <th>change_score</th>\n",
       "      <th>color_count</th>\n",
       "      <th>entropy_score</th>\n",
       "    </tr>\n",
       "  </thead>\n",
       "  <tbody>\n",
       "    <tr>\n",
       "      <th>0</th>\n",
       "      <td>1.657824</td>\n",
       "      <td>625785</td>\n",
       "      <td>4.671604</td>\n",
       "    </tr>\n",
       "    <tr>\n",
       "      <th>1</th>\n",
       "      <td>0.750660</td>\n",
       "      <td>500843</td>\n",
       "      <td>4.824097</td>\n",
       "    </tr>\n",
       "    <tr>\n",
       "      <th>2</th>\n",
       "      <td>1.155753</td>\n",
       "      <td>554332</td>\n",
       "      <td>2.257748</td>\n",
       "    </tr>\n",
       "    <tr>\n",
       "      <th>3</th>\n",
       "      <td>1.373809</td>\n",
       "      <td>30357</td>\n",
       "      <td>3.464204</td>\n",
       "    </tr>\n",
       "    <tr>\n",
       "      <th>4</th>\n",
       "      <td>3.277128</td>\n",
       "      <td>472835</td>\n",
       "      <td>3.099283</td>\n",
       "    </tr>\n",
       "  </tbody>\n",
       "</table>\n",
       "</div>"
      ],
      "text/plain": [
       "   change_score  color_count  entropy_score\n",
       "0      1.657824       625785       4.671604\n",
       "1      0.750660       500843       4.824097\n",
       "2      1.155753       554332       2.257748\n",
       "3      1.373809        30357       3.464204\n",
       "4      3.277128       472835       3.099283"
      ]
     },
     "execution_count": 2,
     "metadata": {},
     "output_type": "execute_result"
    }
   ],
   "source": [
    "dataset = pd.read_csv(\"hydra_sketches.csv\").drop(\"sketch_id\", axis=1)\n",
    "dataset.head()"
   ]
  },
  {
   "cell_type": "code",
   "execution_count": 87,
   "id": "a4cddcf2",
   "metadata": {},
   "outputs": [
    {
     "data": {
      "text/html": [
       "<div>\n",
       "<style scoped>\n",
       "    .dataframe tbody tr th:only-of-type {\n",
       "        vertical-align: middle;\n",
       "    }\n",
       "\n",
       "    .dataframe tbody tr th {\n",
       "        vertical-align: top;\n",
       "    }\n",
       "\n",
       "    .dataframe thead th {\n",
       "        text-align: right;\n",
       "    }\n",
       "</style>\n",
       "<table border=\"1\" class=\"dataframe\">\n",
       "  <thead>\n",
       "    <tr style=\"text-align: right;\">\n",
       "      <th></th>\n",
       "      <th>sumsquare_error</th>\n",
       "      <th>aic</th>\n",
       "      <th>bic</th>\n",
       "      <th>kl_div</th>\n",
       "    </tr>\n",
       "  </thead>\n",
       "  <tbody>\n",
       "    <tr>\n",
       "      <th>beta</th>\n",
       "      <td>15.698417</td>\n",
       "      <td>367.438837</td>\n",
       "      <td>-7.357298</td>\n",
       "      <td>inf</td>\n",
       "    </tr>\n",
       "    <tr>\n",
       "      <th>lognorm</th>\n",
       "      <td>15.896655</td>\n",
       "      <td>393.915384</td>\n",
       "      <td>-10.402271</td>\n",
       "      <td>inf</td>\n",
       "    </tr>\n",
       "    <tr>\n",
       "      <th>burr</th>\n",
       "      <td>16.166660</td>\n",
       "      <td>404.724962</td>\n",
       "      <td>-6.446171</td>\n",
       "      <td>inf</td>\n",
       "    </tr>\n",
       "    <tr>\n",
       "      <th>norm</th>\n",
       "      <td>17.752614</td>\n",
       "      <td>374.007839</td>\n",
       "      <td>-10.413113</td>\n",
       "      <td>inf</td>\n",
       "    </tr>\n",
       "    <tr>\n",
       "      <th>gamma</th>\n",
       "      <td>23.143339</td>\n",
       "      <td>449.557056</td>\n",
       "      <td>1.241275</td>\n",
       "      <td>inf</td>\n",
       "    </tr>\n",
       "  </tbody>\n",
       "</table>\n",
       "</div>"
      ],
      "text/plain": [
       "         sumsquare_error         aic        bic  kl_div\n",
       "beta           15.698417  367.438837  -7.357298     inf\n",
       "lognorm        15.896655  393.915384 -10.402271     inf\n",
       "burr           16.166660  404.724962  -6.446171     inf\n",
       "norm           17.752614  374.007839 -10.413113     inf\n",
       "gamma          23.143339  449.557056   1.241275     inf"
      ]
     },
     "execution_count": 87,
     "metadata": {},
     "output_type": "execute_result"
    },
    {
     "data": {
      "image/png": "[encoded data removed]",
      "text/plain": [
       "<Figure size 432x288 with 1 Axes>"
      ]
     },
     "metadata": {
      "needs_background": "light"
     },
     "output_type": "display_data"
    }
   ],
   "source": [
    "change_score = height = dataset[\"change_score\"].values\n",
    "f = Fitter(change_score,\n",
    "           distributions=['gamma',\n",
    "                          'lognorm',\n",
    "                          \"beta\",\n",
    "                          \"burr\",\n",
    "                          \"norm\"])\n",
    "f.fit()\n",
    "f.summary()"
   ]
  },
  {
   "cell_type": "code",
   "execution_count": 98,
   "id": "4e366f1b",
   "metadata": {},
   "outputs": [
    {
     "data": {
      "text/plain": [
       "[<matplotlib.lines.Line2D at 0x7f8085e1a5e0>]"
      ]
     },
     "execution_count": 98,
     "metadata": {},
     "output_type": "execute_result"
    },
    {
     "data": {
      "image/png": "[encoded data removed]",
      "text/plain": [
       "<Figure size 432x288 with 1 Axes>"
      ]
     },
     "metadata": {
      "needs_background": "light"
     },
     "output_type": "display_data"
    }
   ],
   "source": [
    "import scipy.stats\n",
    "import pylab\n",
    "dist = scipy.stats.burr\n",
    "param = f.fitted_param[\"burr\"]\n",
    "X = np.linspace(0,10)\n",
    "pdf_fitted = dist.pdf(X, *param)\n",
    "pylab.plot(X, pdf_fitted, 'o-')"
   ]
  },
  {
   "cell_type": "code",
   "execution_count": 90,
   "id": "15e33c98",
   "metadata": {},
   "outputs": [
    {
     "data": {
      "text/plain": [
       "(2.7964741676501434,\n",
       " 107.29523872628266,\n",
       " -0.660537175744617,\n",
       " 0.3348659583417909)"
      ]
     },
     "execution_count": 90,
     "metadata": {},
     "output_type": "execute_result"
    }
   ],
   "source": [
    "f.fitted_param[\"burr\"]"
   ]
  },
  {
   "cell_type": "code",
   "execution_count": 91,
   "id": "7959d551",
   "metadata": {},
   "outputs": [
    {
     "data": {
      "text/html": [
       "<div>\n",
       "<style scoped>\n",
       "    .dataframe tbody tr th:only-of-type {\n",
       "        vertical-align: middle;\n",
       "    }\n",
       "\n",
       "    .dataframe tbody tr th {\n",
       "        vertical-align: top;\n",
       "    }\n",
       "\n",
       "    .dataframe thead th {\n",
       "        text-align: right;\n",
       "    }\n",
       "</style>\n",
       "<table border=\"1\" class=\"dataframe\">\n",
       "  <thead>\n",
       "    <tr style=\"text-align: right;\">\n",
       "      <th></th>\n",
       "      <th>sumsquare_error</th>\n",
       "      <th>aic</th>\n",
       "      <th>bic</th>\n",
       "      <th>kl_div</th>\n",
       "    </tr>\n",
       "  </thead>\n",
       "  <tbody>\n",
       "    <tr>\n",
       "      <th>gamma</th>\n",
       "      <td>1.366873e-10</td>\n",
       "      <td>3063.017200</td>\n",
       "      <td>-800.264726</td>\n",
       "      <td>inf</td>\n",
       "    </tr>\n",
       "    <tr>\n",
       "      <th>beta</th>\n",
       "      <td>1.425945e-10</td>\n",
       "      <td>2962.227358</td>\n",
       "      <td>-795.519154</td>\n",
       "      <td>inf</td>\n",
       "    </tr>\n",
       "    <tr>\n",
       "      <th>burr</th>\n",
       "      <td>1.451134e-10</td>\n",
       "      <td>3098.035122</td>\n",
       "      <td>-794.976333</td>\n",
       "      <td>inf</td>\n",
       "    </tr>\n",
       "    <tr>\n",
       "      <th>lognorm</th>\n",
       "      <td>2.109756e-10</td>\n",
       "      <td>3422.680362</td>\n",
       "      <td>-786.809275</td>\n",
       "      <td>inf</td>\n",
       "    </tr>\n",
       "    <tr>\n",
       "      <th>norm</th>\n",
       "      <td>2.269173e-10</td>\n",
       "      <td>2977.509559</td>\n",
       "      <td>-787.985128</td>\n",
       "      <td>inf</td>\n",
       "    </tr>\n",
       "  </tbody>\n",
       "</table>\n",
       "</div>"
      ],
      "text/plain": [
       "         sumsquare_error          aic         bic  kl_div\n",
       "gamma       1.366873e-10  3063.017200 -800.264726     inf\n",
       "beta        1.425945e-10  2962.227358 -795.519154     inf\n",
       "burr        1.451134e-10  3098.035122 -794.976333     inf\n",
       "lognorm     2.109756e-10  3422.680362 -786.809275     inf\n",
       "norm        2.269173e-10  2977.509559 -787.985128     inf"
      ]
     },
     "execution_count": 91,
     "metadata": {},
     "output_type": "execute_result"
    },
    {
     "data": {
      "image/png": "[encoded data removed]",
      "text/plain": [
       "<Figure size 432x288 with 1 Axes>"
      ]
     },
     "metadata": {
      "needs_background": "light"
     },
     "output_type": "display_data"
    }
   ],
   "source": [
    "color_count = height = dataset[\"color_count\"].values\n",
    "f = Fitter(color_count,\n",
    "           distributions=['gamma',\n",
    "                          'lognorm',\n",
    "                          \"beta\",\n",
    "                          \"burr\",\n",
    "                          \"norm\"])\n",
    "f.fit()\n",
    "f.summary()"
   ]
  },
  {
   "cell_type": "code",
   "execution_count": 92,
   "id": "94a343a1",
   "metadata": {},
   "outputs": [
    {
     "data": {
      "text/plain": [
       "[<matplotlib.lines.Line2D at 0x7f80a40befd0>]"
      ]
     },
     "execution_count": 92,
     "metadata": {},
     "output_type": "execute_result"
    },
    {
     "data": {
      "image/png": "[encoded data removed]",
      "text/plain": [
       "<Figure size 432x288 with 1 Axes>"
      ]
     },
     "metadata": {
      "needs_background": "light"
     },
     "output_type": "display_data"
    }
   ],
   "source": [
    "import scipy.stats\n",
    "import pylab\n",
    "dist = scipy.stats.burr\n",
    "param = f.fitted_param[\"burr\"]\n",
    "X = np.linspace(0,10000, 100)\n",
    "pdf_fitted = dist.pdf(X, *param)\n",
    "pylab.plot(X, pdf_fitted, 'o-')"
   ]
  },
  {
   "cell_type": "code",
   "execution_count": 93,
   "id": "6ca9abd2",
   "metadata": {},
   "outputs": [
    {
     "data": {
      "text/plain": [
       "(0.5797647610212682, 7.18655286355451, -1.9248129339763533, 1940.106362851806)"
      ]
     },
     "execution_count": 93,
     "metadata": {},
     "output_type": "execute_result"
    }
   ],
   "source": [
    "f.fitted_param[\"burr\"]"
   ]
  },
  {
   "cell_type": "code",
   "execution_count": 94,
   "id": "413781fe",
   "metadata": {},
   "outputs": [
    {
     "data": {
      "text/html": [
       "<div>\n",
       "<style scoped>\n",
       "    .dataframe tbody tr th:only-of-type {\n",
       "        vertical-align: middle;\n",
       "    }\n",
       "\n",
       "    .dataframe tbody tr th {\n",
       "        vertical-align: top;\n",
       "    }\n",
       "\n",
       "    .dataframe thead th {\n",
       "        text-align: right;\n",
       "    }\n",
       "</style>\n",
       "<table border=\"1\" class=\"dataframe\">\n",
       "  <thead>\n",
       "    <tr style=\"text-align: right;\">\n",
       "      <th></th>\n",
       "      <th>sumsquare_error</th>\n",
       "      <th>aic</th>\n",
       "      <th>bic</th>\n",
       "      <th>kl_div</th>\n",
       "    </tr>\n",
       "  </thead>\n",
       "  <tbody>\n",
       "    <tr>\n",
       "      <th>burr</th>\n",
       "      <td>8.670606</td>\n",
       "      <td>418.250745</td>\n",
       "      <td>-25.759554</td>\n",
       "      <td>inf</td>\n",
       "    </tr>\n",
       "    <tr>\n",
       "      <th>norm</th>\n",
       "      <td>8.756201</td>\n",
       "      <td>422.324834</td>\n",
       "      <td>-32.323002</td>\n",
       "      <td>inf</td>\n",
       "    </tr>\n",
       "    <tr>\n",
       "      <th>lognorm</th>\n",
       "      <td>8.759174</td>\n",
       "      <td>424.687314</td>\n",
       "      <td>-28.878491</td>\n",
       "      <td>inf</td>\n",
       "    </tr>\n",
       "    <tr>\n",
       "      <th>gamma</th>\n",
       "      <td>8.791233</td>\n",
       "      <td>425.227566</td>\n",
       "      <td>-28.765237</td>\n",
       "      <td>inf</td>\n",
       "    </tr>\n",
       "    <tr>\n",
       "      <th>beta</th>\n",
       "      <td>8.918278</td>\n",
       "      <td>386.270132</td>\n",
       "      <td>-24.886466</td>\n",
       "      <td>inf</td>\n",
       "    </tr>\n",
       "  </tbody>\n",
       "</table>\n",
       "</div>"
      ],
      "text/plain": [
       "         sumsquare_error         aic        bic  kl_div\n",
       "burr            8.670606  418.250745 -25.759554     inf\n",
       "norm            8.756201  422.324834 -32.323002     inf\n",
       "lognorm         8.759174  424.687314 -28.878491     inf\n",
       "gamma           8.791233  425.227566 -28.765237     inf\n",
       "beta            8.918278  386.270132 -24.886466     inf"
      ]
     },
     "execution_count": 94,
     "metadata": {},
     "output_type": "execute_result"
    },
    {
     "data": {
      "image/png": "[encoded data removed]",
      "text/plain": [
       "<Figure size 432x288 with 1 Axes>"
      ]
     },
     "metadata": {
      "needs_background": "light"
     },
     "output_type": "display_data"
    }
   ],
   "source": [
    "entropy_score = height = dataset[\"entropy_score\"].values\n",
    "f = Fitter(entropy_score,\n",
    "           distributions=['gamma',\n",
    "                          'lognorm',\n",
    "                          \"beta\",\n",
    "                          \"burr\",\n",
    "                          \"norm\"])\n",
    "f.fit()\n",
    "f.summary()"
   ]
  },
  {
   "cell_type": "code",
   "execution_count": 95,
   "id": "027af014",
   "metadata": {},
   "outputs": [
    {
     "data": {
      "text/plain": [
       "[<matplotlib.lines.Line2D at 0x7f8085ecc880>]"
      ]
     },
     "execution_count": 95,
     "metadata": {},
     "output_type": "execute_result"
    },
    {
     "data": {
      "image/png": "[encoded data removed]",
      "text/plain": [
       "<Figure size 432x288 with 1 Axes>"
      ]
     },
     "metadata": {
      "needs_background": "light"
     },
     "output_type": "display_data"
    }
   ],
   "source": [
    "import scipy.stats\n",
    "import pylab\n",
    "dist = scipy.stats.burr\n",
    "param = f.fitted_param[\"burr\"]\n",
    "X = np.linspace(0,10)\n",
    "pdf_fitted = dist.pdf(X, *param)\n",
    "pylab.plot(X, pdf_fitted, 'o-')"
   ]
  },
  {
   "cell_type": "code",
   "execution_count": 96,
   "id": "e02a2e4a",
   "metadata": {},
   "outputs": [
    {
     "data": {
      "text/plain": [
       "(15.567727791355328,\n",
       " 0.2384381159550322,\n",
       " -1.9761150845550512,\n",
       " 7.310259342526781)"
      ]
     },
     "execution_count": 96,
     "metadata": {},
     "output_type": "execute_result"
    }
   ],
   "source": [
    "f.fitted_param[\"burr\"]"
   ]
  },
  {
   "cell_type": "code",
   "execution_count": null,
   "id": "aaed1b4e",
   "metadata": {},
   "outputs": [],
   "source": []
  }
 ],
 "metadata": {
  "kernelspec": {
   "display_name": "Python 3 (ipykernel)",
   "language": "python",
   "name": "python3"
  },
  "language_info": {
   "codemirror_mode": {
    "name": "ipython",
    "version": 3
   },
   "file_extension": ".py",
   "mimetype": "text/x-python",
   "name": "python",
   "nbconvert_exporter": "python",
   "pygments_lexer": "ipython3",
   "version": "3.9.5"
  }
 },
 "nbformat": 4,
 "nbformat_minor": 5
}
